{
 "cells": [
  {
   "cell_type": "markdown",
   "id": "463d9122",
   "metadata": {},
   "source": [
    "## Array"
   ]
  },
  {
   "cell_type": "markdown",
   "id": "6431b329",
   "metadata": {},
   "source": [
    "### 11. Container With Most Water\n",
    "\n",
    "---\n",
    "\n",
    "You are given an integer array height of length n. There are n vertical lines drawn such that the two endpoints of the ith line are (i, 0) and (i, height[i]).\n",
    "\n",
    "Find two lines that together with the x-axis form a container, such that the container contains the most water.\n",
    "\n",
    "Return the maximum amount of water a container can store.\n",
    "\n",
    "Notice that you may not slant the container.\n",
    "\n",
    "---\n",
    "\n",
    "Example 1:\n",
    "\n",
    "Input: height = [1,8,6,2,5,4,8,3,7]\n",
    "Output: 49\n",
    "Explanation: The above vertical lines are represented by array [1,8,6,2,5,4,8,3,7]. In this case, the max area of water (blue section) the container can contain is 49."
   ]
  },
  {
   "cell_type": "code",
   "execution_count": null,
   "id": "f02c294d",
   "metadata": {},
   "outputs": [],
   "source": [
    "class Solution:\n",
    "    def maxArea(self, height: List[int]) -> int:\n",
    "        # BRUTE FORCE O(n2)\n",
    "        #max_area = 0\n",
    "\n",
    "        #for i, n in enumerate(height):\n",
    "            #for j, m in enumerate(height):\n",
    "                #if j <= i:\n",
    "                    #continue\n",
    "\n",
    "                #left = n\n",
    "                #right = m\n",
    "\n",
    "                #length = min(left, right)\n",
    "                #side = j - i\n",
    "\n",
    "                #area = length * side\n",
    "\n",
    "                #max_area = max(area, max_area)\n",
    "        \n",
    "        #return max_area\n",
    "\n",
    "        # TWO POINTERS O(n)\n",
    "        max_area = 0\n",
    "        left, right = 0, len(height) - 1\n",
    "\n",
    "        while left < right:\n",
    "            area = min(height[left], height[right]) * (right - left)\n",
    "            max_area = max(area, max_area)\n",
    "            if height[left] < height[right]:\n",
    "                left += 1\n",
    "            else:\n",
    "                right -= 1\n",
    "\n",
    "        return max_area"
   ]
  }
 ],
 "metadata": {
  "language_info": {
   "name": "python"
  }
 },
 "nbformat": 4,
 "nbformat_minor": 5
}
